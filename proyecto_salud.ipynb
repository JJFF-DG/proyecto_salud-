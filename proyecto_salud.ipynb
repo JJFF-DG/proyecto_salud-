{
 "cells": [
  {
   "cell_type": "markdown",
   "id": "06c8c592",
   "metadata": {},
   "source": [
    "# Proyecto Salud - Análisis de Diabetes\n",
    "Este notebook realiza un análisis exploratorio y un modelo predictivo básico sobre un dataset sintético de diabetes inspirado en el Pima Indians Diabetes Dataset.\n",
    "\n",
    "El objetivo es mostrar un flujo de trabajo típico de ciencia de datos:\n",
    "- Exploración de datos (EDA)\n",
    "- Preprocesamiento\n",
    "- Modelo predictivo inicial\n",
    "- Conclusiones"
   ]
  },
  {
   "cell_type": "code",
   "execution_count": null,
   "id": "46638d59",
   "metadata": {},
   "outputs": [],
   "source": [
    "import pandas as pd\n",
    "import matplotlib.pyplot as plt\n",
    "import seaborn as sns\n",
    "from sklearn.model_selection import train_test_split\n",
    "from sklearn.linear_model import LogisticRegression\n",
    "from sklearn.metrics import classification_report, roc_curve, auc\n"
   ]
  },
  {
   "cell_type": "code",
   "execution_count": null,
   "id": "7e33a10a",
   "metadata": {},
   "outputs": [],
   "source": [
    "# Cargar dataset limpio\n",
    "df = pd.read_csv('diabetes_clean.csv')\n",
    "df.head()"
   ]
  },
  {
   "cell_type": "code",
   "execution_count": null,
   "id": "8bdae6e8",
   "metadata": {},
   "outputs": [],
   "source": [
    "df.info()\n",
    "df.describe()"
   ]
  },
  {
   "cell_type": "code",
   "execution_count": null,
   "id": "443c4680",
   "metadata": {},
   "outputs": [],
   "source": [
    "df[['Glucose', 'BMI', 'Age']].hist(bins=20, figsize=(10,5))\n",
    "plt.show()"
   ]
  },
  {
   "cell_type": "code",
   "execution_count": null,
   "id": "90d3f099",
   "metadata": {},
   "outputs": [],
   "source": [
    "plt.figure(figsize=(8,6))\n",
    "sns.heatmap(df.corr(), annot=True, cmap='coolwarm')\n",
    "plt.title('Matriz de correlación')\n",
    "plt.show()"
   ]
  },
  {
   "cell_type": "code",
   "execution_count": null,
   "id": "25801a87",
   "metadata": {},
   "outputs": [],
   "source": [
    "sns.boxplot(x='Outcome', y='Glucose', data=df)\n",
    "plt.title('Glucose vs Outcome')\n",
    "plt.show()"
   ]
  },
  {
   "cell_type": "code",
   "execution_count": null,
   "id": "0eedea42",
   "metadata": {},
   "outputs": [],
   "source": [
    "X = df.drop('Outcome', axis=1)\n",
    "y = df['Outcome']\n",
    "\n",
    "X_train, X_test, y_train, y_test = train_test_split(X, y, test_size=0.2, random_state=42)\n",
    "\n",
    "model = LogisticRegression(max_iter=1000)\n",
    "model.fit(X_train, y_train)\n",
    "\n",
    "y_pred = model.predict(X_test)\n",
    "print(classification_report(y_test, y_pred))"
   ]
  },
  {
   "cell_type": "code",
   "execution_count": null,
   "id": "bd38c883",
   "metadata": {},
   "outputs": [],
   "source": [
    "y_prob = model.predict_proba(X_test)[:,1]\n",
    "fpr, tpr, thresholds = roc_curve(y_test, y_prob)\n",
    "roc_auc = auc(fpr, tpr)\n",
    "\n",
    "plt.figure()\n",
    "plt.plot(fpr, tpr, label=f'ROC curve (area = {roc_auc:.2f})')\n",
    "plt.plot([0,1], [0,1], 'k--')\n",
    "plt.xlabel('False Positive Rate')\n",
    "plt.ylabel('True Positive Rate')\n",
    "plt.title('Curva ROC')\n",
    "plt.legend(loc='lower right')\n",
    "plt.show()"
   ]
  },
  {
   "cell_type": "markdown",
   "id": "7af6d1b8",
   "metadata": {},
   "source": [
    "## Conclusiones\n",
    "- Se observaron diferencias claras en glucosa y BMI entre personas con y sin diabetes.\n",
    "- El modelo de regresión logística ofrece una primera aproximación razonable.\n",
    "- Mejoras posibles: probar modelos más complejos (árboles, random forest, gradient boosting), ajustar hiperparámetros y explorar más features.\n",
    "\n",
    "Este notebook ejemplifica un flujo de trabajo típico en proyectos de ciencia de datos en salud."
   ]
  }
 ],
 "metadata": {},
 "nbformat": 4,
 "nbformat_minor": 5
}
